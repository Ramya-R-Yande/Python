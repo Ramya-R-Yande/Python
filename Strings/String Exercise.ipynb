{
 "cells": [
  {
   "cell_type": "code",
   "execution_count": 1,
   "id": "f1558813",
   "metadata": {},
   "outputs": [
    {
     "name": "stdout",
     "output_type": "stream",
     "text": [
      "Symmetrical\n",
      "Palindrome\n"
     ]
    }
   ],
   "source": [
    "string = \"amaama\"\n",
    "half = int(len(string)/2)\n",
    "\n",
    "first_str = string[half :]\n",
    "sec_str = string[: half]\n",
    "\n",
    "if first_str == sec_str:\n",
    "    print(\"Symmetrical\")\n",
    "else:\n",
    "    print(\"Not Symmetrical\")\n",
    "    \n",
    "if first_str == sec_str[: :-1]:\n",
    "    print(\"Palindrome\")\n",
    "else:\n",
    "    print(\"Not Palindrome\")"
   ]
  },
  {
   "cell_type": "markdown",
   "id": "d033abdf",
   "metadata": {},
   "source": [
    "# Reverse Words in a Given String in Python"
   ]
  },
  {
   "cell_type": "code",
   "execution_count": 9,
   "id": "cd024d16",
   "metadata": {},
   "outputs": [
    {
     "name": "stdout",
     "output_type": "stream",
     "text": [
      "you? are How Hi,\n"
     ]
    }
   ],
   "source": [
    "s = \"Hi, How are you?\"\n",
    "st = s.split()[::-1]\n",
    "t = []\n",
    "for i in st:\n",
    "    t.append(i)\n",
    "print(\" \".join(t))"
   ]
  },
  {
   "cell_type": "code",
   "execution_count": null,
   "id": "a3f8780e",
   "metadata": {},
   "outputs": [],
   "source": []
  }
 ],
 "metadata": {
  "kernelspec": {
   "display_name": "Python 3 (ipykernel)",
   "language": "python",
   "name": "python3"
  },
  "language_info": {
   "codemirror_mode": {
    "name": "ipython",
    "version": 3
   },
   "file_extension": ".py",
   "mimetype": "text/x-python",
   "name": "python",
   "nbconvert_exporter": "python",
   "pygments_lexer": "ipython3",
   "version": "3.9.12"
  }
 },
 "nbformat": 4,
 "nbformat_minor": 5
}
